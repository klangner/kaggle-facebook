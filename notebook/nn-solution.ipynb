{
 "cells": [
  {
   "cell_type": "markdown",
   "metadata": {},
   "source": [
    " # NN Solution"
   ]
  },
  {
   "cell_type": "code",
   "execution_count": 4,
   "metadata": {
    "collapsed": true
   },
   "outputs": [],
   "source": [
    "%matplotlib inline\n",
    "import numpy as np\n",
    "import pandas as pd\n",
    "import os\n",
    "from sklearn import cross_validation"
   ]
  },
  {
   "cell_type": "markdown",
   "metadata": {},
   "source": [
    "## Score function"
   ]
  },
  {
   "cell_type": "code",
   "execution_count": 5,
   "metadata": {
    "collapsed": true
   },
   "outputs": [],
   "source": [
    "def apk(actual, predicted, k=10):\n",
    "    if len(predicted)>k:\n",
    "        predicted = predicted[:k]\n",
    "\n",
    "    score = 0.0\n",
    "    num_hits = 0.0\n",
    "\n",
    "    for i,p in enumerate(predicted):\n",
    "        if p in actual and p not in predicted[:i]:\n",
    "            num_hits += 1.0\n",
    "            score += num_hits / (i+1.0)\n",
    "\n",
    "    if not actual:\n",
    "        return 0.0\n",
    "\n",
    "    return score / min(len(actual), k)\n",
    "\n",
    "def mapk(actual, predicted, k=10):\n",
    "    return np.mean([apk(a,p,k) for a,p in zip(actual, predicted)])"
   ]
  },
  {
   "cell_type": "markdown",
   "metadata": {},
   "source": [
    "## Load datasets"
   ]
  },
  {
   "cell_type": "code",
   "execution_count": 7,
   "metadata": {
    "collapsed": false
   },
   "outputs": [
    {
     "data": {
      "text/html": [
       "<div>\n",
       "<table border=\"1\" class=\"dataframe\">\n",
       "  <thead>\n",
       "    <tr style=\"text-align: right;\">\n",
       "      <th></th>\n",
       "      <th>x</th>\n",
       "      <th>y</th>\n",
       "      <th>place_id</th>\n",
       "    </tr>\n",
       "  </thead>\n",
       "  <tbody>\n",
       "    <tr>\n",
       "      <th>24898271</th>\n",
       "      <td>0.3891</td>\n",
       "      <td>1.7392</td>\n",
       "      <td>1298934815</td>\n",
       "    </tr>\n",
       "    <tr>\n",
       "      <th>23197803</th>\n",
       "      <td>1.1850</td>\n",
       "      <td>6.9280</td>\n",
       "      <td>6859380983</td>\n",
       "    </tr>\n",
       "    <tr>\n",
       "      <th>19194022</th>\n",
       "      <td>7.0125</td>\n",
       "      <td>3.6728</td>\n",
       "      <td>8604489285</td>\n",
       "    </tr>\n",
       "    <tr>\n",
       "      <th>6615330</th>\n",
       "      <td>1.9882</td>\n",
       "      <td>2.2232</td>\n",
       "      <td>7782472711</td>\n",
       "    </tr>\n",
       "    <tr>\n",
       "      <th>12568086</th>\n",
       "      <td>8.9427</td>\n",
       "      <td>2.4409</td>\n",
       "      <td>7225332761</td>\n",
       "    </tr>\n",
       "  </tbody>\n",
       "</table>\n",
       "</div>"
      ],
      "text/plain": [
       "               x       y    place_id\n",
       "24898271  0.3891  1.7392  1298934815\n",
       "23197803  1.1850  6.9280  6859380983\n",
       "19194022  7.0125  3.6728  8604489285\n",
       "6615330   1.9882  2.2232  7782472711\n",
       "12568086  8.9427  2.4409  7225332761"
      ]
     },
     "execution_count": 7,
     "metadata": {},
     "output_type": "execute_result"
    }
   ],
   "source": [
    "df = pd.read_csv('../data/train.csv')[['x', 'y', 'place_id']]\n",
    "(train, test) = cross_validation.train_test_split(df, train_size=0.8)\n",
    "df_test = test[['x', 'y']]\n",
    "df_expected = test['place_id']\n",
    "train.head()"
   ]
  },
  {
   "cell_type": "code",
   "execution_count": null,
   "metadata": {
    "collapsed": true
   },
   "outputs": [],
   "source": [
    "actual = []\n",
    "for item in df_test:\n",
    "    predicted = df_expected.\n",
    "    actual.append(df_expected)"
   ]
  }
 ],
 "metadata": {
  "kernelspec": {
   "display_name": "Python 3",
   "language": "python",
   "name": "python3"
  },
  "language_info": {
   "codemirror_mode": {
    "name": "ipython",
    "version": 3
   },
   "file_extension": ".py",
   "mimetype": "text/x-python",
   "name": "python",
   "nbconvert_exporter": "python",
   "pygments_lexer": "ipython3",
   "version": "3.4.4"
  }
 },
 "nbformat": 4,
 "nbformat_minor": 0
}
